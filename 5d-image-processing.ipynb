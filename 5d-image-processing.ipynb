{
 "cells": [
  {
   "cell_type": "markdown",
   "metadata": {},
   "source": [
    "# High-Dimensional Image Processor API Demo\n",
    "\n",
    "This notebook demonstrates how to interact with the FastAPI microservice for image processing."
   ]
  },
  {
   "cell_type": "code",
   "execution_count": 2,
   "metadata": {},
   "outputs": [
    {
     "name": "stderr",
     "output_type": "stream",
     "text": [
      "6114.34s - pydevd: Sending message related to process being replaced timed-out after 5 seconds\n"
     ]
    },
    {
     "name": "stdout",
     "output_type": "stream",
     "text": [
      "Requirement already satisfied: FastAPI in /home/x/.pyenv/versions/3.13.0/lib/python3.13/site-packages (from -r requirements.txt (line 1)) (0.115.8)\n",
      "Requirement already satisfied: numpy in /home/x/.pyenv/versions/3.13.0/lib/python3.13/site-packages (from -r requirements.txt (line 2)) (2.2.3)\n",
      "Requirement already satisfied: opencv-python in /home/x/.pyenv/versions/3.13.0/lib/python3.13/site-packages (from -r requirements.txt (line 3)) (4.11.0.86)\n",
      "Requirement already satisfied: scikit-image in /home/x/.pyenv/versions/3.13.0/lib/python3.13/site-packages (from -r requirements.txt (line 4)) (0.25.2)\n",
      "Requirement already satisfied: scikit-learn in /home/x/.pyenv/versions/3.13.0/lib/python3.13/site-packages (from -r requirements.txt (line 5)) (1.6.1)\n",
      "Requirement already satisfied: pytest in /home/x/.pyenv/versions/3.13.0/lib/python3.13/site-packages (from -r requirements.txt (line 6)) (8.3.4)\n",
      "Requirement already satisfied: python-multipart in /home/x/.pyenv/versions/3.13.0/lib/python3.13/site-packages (from -r requirements.txt (line 7)) (0.0.20)\n",
      "Requirement already satisfied: imagecodecs in /home/x/.pyenv/versions/3.13.0/lib/python3.13/site-packages (from -r requirements.txt (line 8)) (2024.12.30)\n",
      "Requirement already satisfied: pytest-cov in /home/x/.pyenv/versions/3.13.0/lib/python3.13/site-packages (from -r requirements.txt (line 9)) (6.0.0)\n",
      "Requirement already satisfied: httpx in /home/x/.pyenv/versions/3.13.0/lib/python3.13/site-packages (from -r requirements.txt (line 10)) (0.28.1)\n",
      "Requirement already satisfied: requests in /home/x/.pyenv/versions/3.13.0/lib/python3.13/site-packages (from -r requirements.txt (line 11)) (2.32.3)\n",
      "Requirement already satisfied: uvicorn in /home/x/.pyenv/versions/3.13.0/lib/python3.13/site-packages (from -r requirements.txt (line 12)) (0.34.0)\n",
      "Requirement already satisfied: starlette<0.46.0,>=0.40.0 in /home/x/.pyenv/versions/3.13.0/lib/python3.13/site-packages (from FastAPI->-r requirements.txt (line 1)) (0.45.3)\n",
      "Requirement already satisfied: pydantic!=1.8,!=1.8.1,!=2.0.0,!=2.0.1,!=2.1.0,<3.0.0,>=1.7.4 in /home/x/.pyenv/versions/3.13.0/lib/python3.13/site-packages (from FastAPI->-r requirements.txt (line 1)) (2.10.6)\n",
      "Requirement already satisfied: typing-extensions>=4.8.0 in /home/x/.pyenv/versions/3.13.0/lib/python3.13/site-packages (from FastAPI->-r requirements.txt (line 1)) (4.12.2)\n",
      "Requirement already satisfied: scipy>=1.11.4 in /home/x/.pyenv/versions/3.13.0/lib/python3.13/site-packages (from scikit-image->-r requirements.txt (line 4)) (1.15.2)\n",
      "Requirement already satisfied: networkx>=3.0 in /home/x/.pyenv/versions/3.13.0/lib/python3.13/site-packages (from scikit-image->-r requirements.txt (line 4)) (3.4.2)\n",
      "Requirement already satisfied: pillow>=10.1 in /home/x/.pyenv/versions/3.13.0/lib/python3.13/site-packages (from scikit-image->-r requirements.txt (line 4)) (11.1.0)\n",
      "Requirement already satisfied: imageio!=2.35.0,>=2.33 in /home/x/.pyenv/versions/3.13.0/lib/python3.13/site-packages (from scikit-image->-r requirements.txt (line 4)) (2.37.0)\n",
      "Requirement already satisfied: tifffile>=2022.8.12 in /home/x/.pyenv/versions/3.13.0/lib/python3.13/site-packages (from scikit-image->-r requirements.txt (line 4)) (2025.2.18)\n",
      "Requirement already satisfied: packaging>=21 in /home/x/.pyenv/versions/3.13.0/lib/python3.13/site-packages (from scikit-image->-r requirements.txt (line 4)) (24.2)\n",
      "Requirement already satisfied: lazy-loader>=0.4 in /home/x/.pyenv/versions/3.13.0/lib/python3.13/site-packages (from scikit-image->-r requirements.txt (line 4)) (0.4)\n",
      "Requirement already satisfied: joblib>=1.2.0 in /home/x/.pyenv/versions/3.13.0/lib/python3.13/site-packages (from scikit-learn->-r requirements.txt (line 5)) (1.4.2)\n",
      "Requirement already satisfied: threadpoolctl>=3.1.0 in /home/x/.pyenv/versions/3.13.0/lib/python3.13/site-packages (from scikit-learn->-r requirements.txt (line 5)) (3.5.0)\n",
      "Requirement already satisfied: iniconfig in /home/x/.pyenv/versions/3.13.0/lib/python3.13/site-packages (from pytest->-r requirements.txt (line 6)) (2.0.0)\n",
      "Requirement already satisfied: pluggy<2,>=1.5 in /home/x/.pyenv/versions/3.13.0/lib/python3.13/site-packages (from pytest->-r requirements.txt (line 6)) (1.5.0)\n",
      "Requirement already satisfied: coverage>=7.5 in /home/x/.pyenv/versions/3.13.0/lib/python3.13/site-packages (from coverage[toml]>=7.5->pytest-cov->-r requirements.txt (line 9)) (7.6.12)\n",
      "Requirement already satisfied: anyio in /home/x/.pyenv/versions/3.13.0/lib/python3.13/site-packages (from httpx->-r requirements.txt (line 10)) (4.8.0)\n",
      "Requirement already satisfied: certifi in /home/x/.pyenv/versions/3.13.0/lib/python3.13/site-packages (from httpx->-r requirements.txt (line 10)) (2025.1.31)\n",
      "Requirement already satisfied: httpcore==1.* in /home/x/.pyenv/versions/3.13.0/lib/python3.13/site-packages (from httpx->-r requirements.txt (line 10)) (1.0.7)\n",
      "Requirement already satisfied: idna in /home/x/.pyenv/versions/3.13.0/lib/python3.13/site-packages (from httpx->-r requirements.txt (line 10)) (3.10)\n",
      "Requirement already satisfied: h11<0.15,>=0.13 in /home/x/.pyenv/versions/3.13.0/lib/python3.13/site-packages (from httpcore==1.*->httpx->-r requirements.txt (line 10)) (0.14.0)\n",
      "Requirement already satisfied: charset-normalizer<4,>=2 in /home/x/.pyenv/versions/3.13.0/lib/python3.13/site-packages (from requests->-r requirements.txt (line 11)) (3.4.1)\n",
      "Requirement already satisfied: urllib3<3,>=1.21.1 in /home/x/.pyenv/versions/3.13.0/lib/python3.13/site-packages (from requests->-r requirements.txt (line 11)) (2.3.0)\n",
      "Requirement already satisfied: click>=7.0 in /home/x/.pyenv/versions/3.13.0/lib/python3.13/site-packages (from uvicorn->-r requirements.txt (line 12)) (8.1.8)\n",
      "Requirement already satisfied: annotated-types>=0.6.0 in /home/x/.pyenv/versions/3.13.0/lib/python3.13/site-packages (from pydantic!=1.8,!=1.8.1,!=2.0.0,!=2.0.1,!=2.1.0,<3.0.0,>=1.7.4->FastAPI->-r requirements.txt (line 1)) (0.7.0)\n",
      "Requirement already satisfied: pydantic-core==2.27.2 in /home/x/.pyenv/versions/3.13.0/lib/python3.13/site-packages (from pydantic!=1.8,!=1.8.1,!=2.0.0,!=2.0.1,!=2.1.0,<3.0.0,>=1.7.4->FastAPI->-r requirements.txt (line 1)) (2.27.2)\n",
      "Requirement already satisfied: sniffio>=1.1 in /home/x/.pyenv/versions/3.13.0/lib/python3.13/site-packages (from anyio->httpx->-r requirements.txt (line 10)) (1.3.1)\n",
      "\n",
      "\u001b[1m[\u001b[0m\u001b[34;49mnotice\u001b[0m\u001b[1;39;49m]\u001b[0m\u001b[39;49m A new release of pip is available: \u001b[0m\u001b[31;49m24.2\u001b[0m\u001b[39;49m -> \u001b[0m\u001b[32;49m25.0.1\u001b[0m\n",
      "\u001b[1m[\u001b[0m\u001b[34;49mnotice\u001b[0m\u001b[1;39;49m]\u001b[0m\u001b[39;49m To update, run: \u001b[0m\u001b[32;49mpip install --upgrade pip\u001b[0m\n"
     ]
    }
   ],
   "source": [
    "! pip install -r requirements.txt"
   ]
  },
  {
   "cell_type": "code",
   "execution_count": null,
   "id": "upload-image",
   "metadata": {},
   "outputs": [
    {
     "name": "stdout",
     "output_type": "stream",
     "text": [
      "{'filename': 'fake_image.tiff', 'message': 'Upload successful'}\n"
     ]
    }
   ],
   "source": [
    "import requests\n",
    "import os\n",
    "\n",
    "# Replace with your local API URL if different\n",
    "api_url = \"http://localhost:8000\"\n",
    "\n",
    "# Upload an image\n",
    "upload_url = f\"{api_url}/upload/\"\n",
    "# Use the sample fake image stored in the uploads folder (root directory)\n",
    "file_path = os.path.join('uploads', 'mitosis.tif')\n",
    "with open(file_path, 'rb') as f:\n",
    "    # Ensure the filename in the tuple matches the file saved on disk,\n",
    "    # so we use .tif here.\n",
    "    files = {'file': ('mitosis.tif', f, 'image/tiff')}\n",
    "    response = requests.post(upload_url, files=files)\n",
    "print(response.json())"
   ]
  },
  {
   "cell_type": "code",
   "execution_count": null,
   "id": "get-metadata",
   "metadata": {},
   "outputs": [],
   "source": [
    "# Retrieve metadata for the uploaded file\n",
    "metadata_url = f\"{api_url}/metadata/fake_image.tif\"\n",
    "response = requests.get(metadata_url)\n",
    "print(response.json())"
   ]
  },
  {
   "cell_type": "code",
   "execution_count": null,
   "id": "extract-slice",
   "metadata": {},
   "outputs": [],
   "source": [
    "# Extract a slice from the image. For example: z=0, time=1, channel=1\n",
    "slice_url = f\"{api_url}/extract-slice/\"\n",
    "params = {\"filename\": \"fake_image.tif\", \"z\": 0, \"time\": 1, \"channel\": 1}\n",
    "response = requests.post(slice_url, params=params)\n",
    "print(response.json())"
   ]
  },
  {
   "cell_type": "code",
   "execution_count": null,
   "id": "analyze-image",
   "metadata": {},
   "outputs": [],
   "source": [
    "# Run PCA analysis on the image\n",
    "analyze_url = f\"{api_url}/analyze/\"\n",
    "response = requests.post(analyze_url, params={\"filename\": \"fake_image.tif\"})\n",
    "print(response.json())"
   ]
  },
  {
   "cell_type": "code",
   "execution_count": null,
   "id": "get-statistics",
   "metadata": {},
   "outputs": [],
   "source": [
    "# Get image statistics\n",
    "stats_url = f\"{api_url}/statistics/fake_image.tif\"\n",
    "response = requests.get(stats_url)\n",
    "print(response.json())"
   ]
  },
  {
   "cell_type": "code",
   "execution_count": null,
   "metadata": {},
   "outputs": [],
   "source": [
    "# Segment the image using the API\n",
    "segment_url = f\"{api_url}/segment/\"\n",
    "response = requests.post(segment_url, params={\"filename\": \"fake_image.tif\"})\n",
    "print(response.json())"
   ]
  }
 ],
 "metadata": {
  "kernelspec": {
   "display_name": "Python 3",
   "language": "python",
   "name": "python3"
  },
  "language_info": {
   "codemirror_mode": {
    "name": "ipython",
    "version": 3
   },
   "file_extension": ".py",
   "mimetype": "text/x-python",
   "name": "python",
   "nbconvert_exporter": "python",
   "pygments_lexer": "ipython3",
   "version": "3.13.0"
  }
 },
 "nbformat": 4,
 "nbformat_minor": 2
}
